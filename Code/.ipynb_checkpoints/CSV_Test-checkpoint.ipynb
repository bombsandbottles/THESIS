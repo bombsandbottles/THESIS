{
 "metadata": {
  "name": "",
  "signature": "sha256:4d35531aef98914f53ea4d2933d9f8a36d906a9d0c7446e462ce0703a115e8a4"
 },
 "nbformat": 3,
 "nbformat_minor": 0,
 "worksheets": [
  {
   "cells": [
    {
     "cell_type": "code",
     "collapsed": false,
     "input": [
      "import csv\n",
      "import feature_extraction\n",
      "import numpy as np\n",
      "np.set_printoptions(threshold='nan')\n",
      "import librosa\n",
      "import shutil\n",
      "import mir_utils\n",
      "import os, sys"
     ],
     "language": "python",
     "metadata": {},
     "outputs": [],
     "prompt_number": 2
    },
    {
     "cell_type": "code",
     "collapsed": false,
     "input": [
      "filepath = '/Users/harrison/Desktop/Thesis_Test/Ariana Grande - One Last Time/Test/Ld Voc Stem_converted_normalized.wav'\n",
      "data, fs, t = feature_extraction.import_audio(filepath)"
     ],
     "language": "python",
     "metadata": {},
     "outputs": [],
     "prompt_number": 3
    },
    {
     "cell_type": "code",
     "collapsed": false,
     "input": [
      "# Calculate Dynamics Features\n",
      "loudness_momentary, t_ = feature_extraction.calc_loudness(data, measurement = 'momentary')\n",
      "print \"done!\"\n",
      "loudness_short, t_ = feature_extraction.calc_loudness(data, measurement = 'short')\n",
      "print \"done!\"\n",
      "loudness_integrated = feature_extraction.calc_loudness(data, measurement = 'integrated')\n",
      "print \"done!\"\n",
      "lra = feature_extraction.calc_loudness(data, measurement = 'lra')\n",
      "print \"done!\"\n",
      "crest_factor_1s, t_ = feature_extraction.calc_crest_factor(data, win_size=1000, fs=44100)\n",
      "print \"done!\"\n",
      "crest_factor_100ms, t_ = feature_extraction.calc_crest_factor(data, win_size=100, fs=44100)\n",
      "print \"done!\""
     ],
     "language": "python",
     "metadata": {},
     "outputs": [
      {
       "output_type": "stream",
       "stream": "stdout",
       "text": [
        "done!\n",
        "done!"
       ]
      },
      {
       "output_type": "stream",
       "stream": "stdout",
       "text": [
        "\n",
        "done!"
       ]
      },
      {
       "output_type": "stream",
       "stream": "stdout",
       "text": [
        "\n",
        "done!"
       ]
      },
      {
       "output_type": "stream",
       "stream": "stdout",
       "text": [
        "\n",
        "done!"
       ]
      },
      {
       "output_type": "stream",
       "stream": "stdout",
       "text": [
        "\n",
        "done!"
       ]
      },
      {
       "output_type": "stream",
       "stream": "stdout",
       "text": [
        "\n"
       ]
      }
     ],
     "prompt_number": 5
    },
    {
     "cell_type": "code",
     "collapsed": false,
     "input": [
      "data = [ \n",
      "['loudness_momentary', loudness_momentary],\n",
      "['loudness_short', loudness_short],\n",
      "['loudness_integrated', loudness_integrated],\n",
      "['lra', lra],\n",
      "['crest_factor_1s', crest_factor_1s],\n",
      "['crest_factor_100ms', crest_factor_100ms]\n",
      "]"
     ],
     "language": "python",
     "metadata": {},
     "outputs": [],
     "prompt_number": 71
    },
    {
     "cell_type": "code",
     "collapsed": false,
     "input": [
      "i = 0\n",
      "for row in data:\n",
      "    if type(row[1]) is np.ndarray:\n",
      "        data[i] = [row[0]]+row[1].tolist()\n",
      "    else:\n",
      "        data[i] = row\n",
      "    i += 1"
     ],
     "language": "python",
     "metadata": {},
     "outputs": [],
     "prompt_number": 64
    },
    {
     "cell_type": "code",
     "collapsed": false,
     "input": [
      "data = [[row[0]]+row[1].tolist() if type(row[1]) is np.ndarray else row for row in data]"
     ],
     "language": "python",
     "metadata": {},
     "outputs": [],
     "prompt_number": 73
    },
    {
     "cell_type": "code",
     "collapsed": false,
     "input": [
      "# Write to CSV File\n",
      "with open(filepath + \"/\" + file_name + \".csv\", \"wb\") as stem_data:\n",
      "    w = csv.writer(stem_data, delimiter=',')\n",
      "    print \"Writing %s to csv\" % file_name\n",
      "    w.writerows(data)"
     ],
     "language": "python",
     "metadata": {},
     "outputs": []
    }
   ],
   "metadata": {}
  }
 ]
}